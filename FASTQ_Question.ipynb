{
  "nbformat": 4,
  "nbformat_minor": 0,
  "metadata": {
    "colab": {
      "provenance": [],
      "authorship_tag": "ABX9TyOJDufEICqxxp7k6vWPJdCV",
      "include_colab_link": true
    },
    "kernelspec": {
      "name": "python3",
      "display_name": "Python 3"
    },
    "language_info": {
      "name": "python"
    }
  },
  "cells": [
    {
      "cell_type": "markdown",
      "metadata": {
        "id": "view-in-github",
        "colab_type": "text"
      },
      "source": [
        "<a href=\"https://colab.research.google.com/github/Getver/DataAnalysis/blob/main/FASTQ_Question.ipynb\" target=\"_parent\"><img src=\"https://colab.research.google.com/assets/colab-badge.svg\" alt=\"Open In Colab\"/></a>"
      ]
    },
    {
      "cell_type": "code",
      "source": [
        "# 모듈 모셔오기\n",
        "\n",
        "from Bio import SeqIO\n",
        "from Bio.Seq impot Seq\n",
        "from Bio.SeqRecord import SeqRecord\n",
        "import numpy as np\n",
        "import pandas as pd"
      ],
      "metadata": {
        "id": "qEvKC0g-xv1h"
      },
      "execution_count": null,
      "outputs": []
    },
    {
      "cell_type": "code",
      "source": [
        "# 1. FastaQ 파일을 Fasta 파일로 변환해라\n",
        "\n",
        "# FASTQ file 불러오기\n",
        "\n",
        "handle=\"파일위치/이름.fastq\"\n",
        "for record in SeqIO.parse(handle, \"fastq\"):\n",
        "  print(record.id)\n",
        "\n",
        "\n",
        "# FAST파일로 쓰기\n",
        "\n",
        "convert_fasta=SeqIO.convert(handle, \"fastq\", \"파일위치/이름.fasta\", \"fasta\")"
      ],
      "metadata": {
        "id": "IiurfHgQxv6N"
      },
      "execution_count": null,
      "outputs": []
    },
    {
      "cell_type": "code",
      "source": [
        "# 2. Fasta 파일에서 A, T, G, C 세기\n",
        "\n",
        "handle2=\"파일위치/이름.fastq\"\n",
        "A = []\n",
        "T = []\n",
        "G = []\n",
        "C = []\n",
        "for record2 in SeqIO.parse(handle2, \"fasta\"):\n",
        "  A.append(Seq(record2.seq).count(\"A\"))\n",
        "  T.append(Seq(record2.seq).count(\"T\"))\n",
        "  G.append(Seq(record2.seq).count(\"G\"))\n",
        "  C.append(Seq(record2.seq).count(\"C\"))\n",
        "print(\"A: \", sum(A), \"T: \", sum(T), \"G: \", sum(G), \"C: \", sum(C))"
      ],
      "metadata": {
        "id": "h9Fbk0c20SeW"
      },
      "execution_count": null,
      "outputs": []
    },
    {
      "cell_type": "code",
      "source": [
        "# 3. 전체 Sequence 세기\n",
        "\n",
        "print(sum(len(r) for r in SeqIO.parse(handle2, \"fasta\")))"
      ],
      "metadata": {
        "id": "G2-Zkv9c0Sgs"
      },
      "execution_count": null,
      "outputs": []
    },
    {
      "cell_type": "code",
      "source": [
        "# 4. Top 10 length\n",
        "\n",
        "record_id = []\n",
        "record_len=[]\n",
        "for record2 in SeqIO.parse(handle2, \"fasta\"):\n",
        "  record_id.append(record2.id)\n",
        "  record_len.append(len(record2.seq))\n",
        "record_id_array=np.array(record_id)\n",
        "record_len_array=np.array(record_len)"
      ],
      "metadata": {
        "id": "vg4yFQ2B0SjT"
      },
      "execution_count": null,
      "outputs": []
    }
  ]
}